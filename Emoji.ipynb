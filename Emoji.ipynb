{
 "cells": [
  {
   "cell_type": "code",
   "execution_count": 1,
   "metadata": {
    "collapsed": true
   },
   "outputs": [
    {
     "ename": "ModuleNotFoundError",
     "evalue": "No module named 'emot'",
     "output_type": "error",
     "traceback": [
      "\u001B[0;31m---------------------------------------------------------------------------\u001B[0m",
      "\u001B[0;31mModuleNotFoundError\u001B[0m                       Traceback (most recent call last)",
      "\u001B[0;32m/var/folders/zs/1x8x281d6mg487bnxd0bfzvm0000gn/T/ipykernel_79039/877115222.py\u001B[0m in \u001B[0;36m<module>\u001B[0;34m\u001B[0m\n\u001B[1;32m      1\u001B[0m \u001B[0;32mimport\u001B[0m \u001B[0mpandas\u001B[0m \u001B[0;32mas\u001B[0m \u001B[0mpd\u001B[0m\u001B[0;34m\u001B[0m\u001B[0;34m\u001B[0m\u001B[0m\n\u001B[0;32m----> 2\u001B[0;31m \u001B[0;32mimport\u001B[0m \u001B[0memot\u001B[0m\u001B[0;34m\u001B[0m\u001B[0;34m\u001B[0m\u001B[0m\n\u001B[0m\u001B[1;32m      3\u001B[0m \u001B[0mdf\u001B[0m \u001B[0;34m=\u001B[0m \u001B[0mpd\u001B[0m\u001B[0;34m.\u001B[0m\u001B[0mread_csv\u001B[0m\u001B[0;34m(\u001B[0m\u001B[0;34m'/Users/corinnesteuk/PycharmProjects/pythonProject/Joy-11-2021.csv'\u001B[0m\u001B[0;34m)\u001B[0m\u001B[0;34m\u001B[0m\u001B[0;34m\u001B[0m\u001B[0m\n\u001B[1;32m      4\u001B[0m \u001B[0;34m\u001B[0m\u001B[0m\n",
      "\u001B[0;31mModuleNotFoundError\u001B[0m: No module named 'emot'"
     ]
    }
   ],
   "source": [
    "import pandas as pd\n",
    "import emot\n",
    "df = pd.read_csv('/Users/corinnesteuk/PycharmProjects/pythonProject/Joy-11-2021.csv')"
   ]
  },
  {
   "cell_type": "code",
   "execution_count": null,
   "outputs": [],
   "source": [
    "\n",
    "tweet_emojis = {}\n",
    "emoji_meanings = {}\n",
    "index = 0\n",
    "for tweet in df['content']:\n",
    "    # find emoji meanings\n",
    "    emot_obj = emot.core.emot()\n",
    "    emojis = emot_obj.emoji(tweet)\n",
    "    tweet_emojis[index] = emojis['value']\n",
    "\n",
    "    # if there are emojis in the tweet replace them with their meanings\n",
    "    if len(emojis['value']) > 0:\n",
    "        e = []\n",
    "        for i in range(len(emojis['value'])):\n",
    "\n",
    "            meaning = emojis['mean'][i]\n",
    "            clean_meaning = meaning.replace(\"_\", \" \")\n",
    "            clean_meaning = clean_meaning.replace(\":\", \"\")\n",
    "            e.append(clean_meaning)\n",
    "        emoji_meanings[index] = e\n",
    "    else:\n",
    "        emoji_meanings[index] = \"Null\"\n",
    "    index += 1\n",
    "\n",
    "#dictionary of the actual emoji pictures (key: index, value: list of emoji pictures)\n",
    "# print(tweet_emojis)\n",
    "#dictionary of the emoji meanings (key: index, value: list of cleaned string emoji meanings)\n",
    "# print(emoji_meanings)\n",
    "\n",
    "val = emoji_meanings.values()\n",
    "val1 = []\n",
    "for i in val:\n",
    "    if i != \"Null\":\n",
    "        for j in i:\n",
    "            val1.append(j)\n",
    "print(mode(val1))\n"
   ],
   "metadata": {
    "collapsed": false,
    "pycharm": {
     "name": "#%%\n"
    }
   }
  }
 ],
 "metadata": {
  "kernelspec": {
   "name": "python3",
   "language": "python",
   "display_name": "Python 3 (ipykernel)"
  },
  "language_info": {
   "codemirror_mode": {
    "name": "ipython",
    "version": 2
   },
   "file_extension": ".py",
   "mimetype": "text/x-python",
   "name": "python",
   "nbconvert_exporter": "python",
   "pygments_lexer": "ipython2",
   "version": "2.7.6"
  }
 },
 "nbformat": 4,
 "nbformat_minor": 0
}