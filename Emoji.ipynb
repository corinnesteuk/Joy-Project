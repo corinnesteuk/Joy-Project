{
 "cells": [
  {
   "cell_type": "code",
   "execution_count": 8,
   "metadata": {
    "pycharm": {
     "is_executing": true
    }
   },
   "outputs": [],
   "source": [
    "import pandas as pd\n",
    "import emot\n",
    "import numpy as np\n",
    "from heapq import nlargest\n",
    "df = pd.read_csv('/Users/corinnesteuk/PycharmProjects/pythonProject/Joy-11-2021.csv')"
   ]
  },
  {
   "cell_type": "code",
   "execution_count": null,
   "metadata": {
    "pycharm": {
     "is_executing": true,
     "name": "#%%\n"
    }
   },
   "outputs": [],
   "source": [
    "\n",
    "tweet_emojis = {}\n",
    "emoji_meanings = {}\n",
    "full_emoji_dict = {}\n",
    "index = 0\n",
    "for tweet in df['content']:\n",
    "    \n",
    "    # find emoji meanings\n",
    "    emot_obj = emot.core.emot()\n",
    "    emojis = emot_obj.emoji(tweet)\n",
    "    x = emojis['value']\n",
    "    tweet_emojis[index] = x\n",
    "    # if there are emojis in the tweet replace them with their meanings\n",
    "    if len(emojis['value']) > 0:\n",
    "        e = []\n",
    "        for i in range(len(emojis['value'])):\n",
    "\n",
    "            meaning = emojis['mean'][i]\n",
    "            clean_meaning = meaning.replace(\"_\", \" \")\n",
    "            clean_meaning = clean_meaning.replace(\":\", \"\")\n",
    "            e.append(clean_meaning)\n",
    "        emoji_meanings[index] = e\n",
    "    else:\n",
    "        e = 'Null'\n",
    "        emoji_meanings[index] = 'Null'\n",
    "    full_emoji_dict[index] = [x, e]\n",
    "    index += 1\n",
    "\n",
    "#dictionary of the actual emoji pictures (key: index, value: list of emoji pictures)\n",
    "# print(tweet_emojis)\n",
    "#dictionary of the emoji meanings (key: index, value: list of cleaned string emoji meanings)\n",
    "# print(emoji_meanings)\n",
    "\n",
    "#combination of the above two dictionaries\n",
    "#key: index; value: list of 2 - postion 0 (of this list) has a list of the emoji pictures and \n",
    "#position 1 has a list of the emoji string meanings\n",
    "#print(full_emoji_dict)\n",
    "print('done')"
   ]
  },
  {
   "cell_type": "code",
   "execution_count": null,
   "metadata": {
    "pycharm": {
     "is_executing": true
    }
   },
   "outputs": [],
   "source": [
    "#list of emoji meanings to use in the count_elements function\n",
    "#removes the null entries from the emoji_meanings dictionary values\n",
    "val = emoji_meanings.values()\n",
    "\n",
    "def remove_meaning_nulls(i):\n",
    "    val1 = []\n",
    "    for i in val:\n",
    "        if i != \"Null\":\n",
    "            for j in i:\n",
    "                val1.append(j)\n",
    "    return val1\n",
    "emoji_text = remove_meaning_nulls(val)\n",
    "#print(emoji_text)\n"
   ]
  },
  {
   "cell_type": "code",
   "execution_count": null,
   "metadata": {
    "pycharm": {
     "is_executing": true
    }
   },
   "outputs": [],
   "source": [
    "#removing the skin tone words and colors from the emoji meanings\n",
    "stopwords = ['medium-light', 'medium', 'dark', 'skin', 'tone', 'light', 'medium-dark', 'black', 'brown', 'white','blue', 'red', 'orange', 'yellow', 'green', 'purple']"
   ]
  },
  {
   "cell_type": "code",
   "execution_count": null,
   "metadata": {
    "pycharm": {
     "is_executing": true
    }
   },
   "outputs": [],
   "source": [
    "#using the stopwords for skin tone above and removing them \n",
    "# this should happen before the counting elements\n",
    "#returns a list of the clean emoji meanings\n",
    "def remove_stopwords(values):\n",
    "    new = []\n",
    "    for k in values:\n",
    "        querywords = k.split()\n",
    "        resultwords  = [word for word in querywords if word.lower() not in stopwords]\n",
    "        result = ' '.join(resultwords)    \n",
    "        new.append(result)\n",
    "    return new\n",
    "clean_emoji_meanings = remove_stopwords(emoji_text)\n",
    "#print(clean_emoji_meanings)\n"
   ]
  },
  {
   "cell_type": "code",
   "execution_count": null,
   "metadata": {
    "pycharm": {
     "is_executing": true
    }
   },
   "outputs": [],
   "source": [
    "#function to count the number of elements appearing in a list \n",
    "#using the list of string emoji meanings (that we removed the nulls from)\n",
    "\n",
    "def count_elements(listOfElems):\n",
    "    emoji_count = {}\n",
    "    ''' Check if given list contains any duplicates '''\n",
    "    for elem in listOfElems:\n",
    "        emoji_count[elem] = listOfElems.count(elem)\n",
    "    return emoji_count\n",
    "\n",
    "#dictionary- key: emoji textual meaning; value: number of times it shows up in data\n",
    "emoji_dict = count_elements(clean_emoji_meanings)\n",
    "#print(emoji_dict)"
   ]
  },
  {
   "cell_type": "code",
   "execution_count": null,
   "metadata": {
    "pycharm": {
     "is_executing": true
    }
   },
   "outputs": [],
   "source": [
    "\n",
    "#What are the top 10 most frequently used emojis in dictionary?\n",
    "\n",
    "def top_ten_emojis(emoji_dict):\n",
    "    i = 0\n",
    "    emoji_words = list(emoji_dict.keys())\n",
    "    emoji_counts = list(emoji_dict.values())\n",
    "    popular_emojis = {}\n",
    "    indices = range(0, len(emoji_counts)-1)\n",
    "    maximum_counts = nlargest(10, emoji_counts)\n",
    "    while i < len(emoji_counts):\n",
    "        if emoji_counts[i] in maximum_counts:\n",
    "            popular_emojis[emoji_words[i]] = emoji_counts[i]\n",
    "        i +=1\n",
    "    return popular_emojis\n",
    "popular_emojis = top_ten_emojis(emoji_dict)\n",
    "print(popular_emojis)\n",
    "    \n",
    "\n"
   ]
  },
  {
   "cell_type": "code",
   "execution_count": null,
   "metadata": {
    "pycharm": {
     "is_executing": true
    }
   },
   "outputs": [],
   "source": [
    "#top 10 in full data set \n",
    "full_emojis = {'heart': 1331, 'smiling face with hearts': 225, 'loudly crying face': 503, 'sparkles': 227, 'folded hands': 298, 'smiling face with heart-eyes': 179, 'fire': 254, 'face with tears of joy': 741, 'raising hands': 178, 'rolling on the floor laughing': 282}\n",
    "\n",
    "#top 10 in Joy tweets\n",
    "joy_emojis = {'heart': 1022, 'smiling face with hearts': 177, 'loudly crying face': 197, 'sparkles': 184, 'two hearts': 103, 'folded hands': 194, 'smiling face with heart-eyes': 111, 'seedling': 132, 'face with tears of joy': 216, 'raising hands': 121}\n",
    "joy_emojis = {'heart': 1022, 'face with tears of joy': 216, 'loudly crying face' : 197, 'folded hands': 194, 'sparkles': 184, 'smiling face with hearts': 177, 'seedling': 132, 'raising hands': 121, 'smiling face with heart-eyes': 111, 'two hearts': 103}\n",
    "#top 10 in Non-Joy tweets\n",
    "nonjoy_emojis = {'fire': 155, 'face with tears of joy': 525, 'skull': 72, 'folded hands': 104, 'heart': 309, 'smiling face with heart-eyes': 68, 'loudly crying face': 306, 'pleading face': 79, 'rolling on the floor laughing': 200, 'clapping hands': 63}\n",
    "nonjoy_emojis = {'face with tears of joy': 525, 'heart': 309, 'loudly crying face': 306, 'rolling on the floor laughing':200, 'fire':155, 'folded hands':104, 'pleading face':79, 'skull':72, 'smiling face with heart-eyes':68, 'clapping hands': 63}"
   ]
  },
  {
   "cell_type": "code",
   "execution_count": 28,
   "metadata": {
    "pycharm": {
     "is_executing": true
    }
   },
   "outputs": [
    {
     "data": {
      "image/png": "[encoded data removed]",
      "text/plain": [
       "<Figure size 432x288 with 1 Axes>"
      ]
     },
     "metadata": {
      "needs_background": "light"
     },
     "output_type": "display_data"
    }
   ],
   "source": [
    "#visual for all these values \n",
    "#we might not need the full_emojis\n",
    "# j_df = pd.DataFrame.from_dict(joy_emojis, orient='index')\n",
    "# j_df = sorted(j_df[0])\n",
    "# print(j_df)\n",
    "\n",
    "\n",
    "nj_df = pd.DataFrame([['heart', 1022, 'Joy'],\n",
    "['face with tears of joy', 216, 'Joy'],\n",
    "['loudly crying face', 197, 'Joy'],\n",
    "['folded hands', 194, 'Joy'],\n",
    "['sparkles', 184, 'Joy'],\n",
    "['smiling face with hearts', 177, 'Joy'],\n",
    "['seedling', 132, 'Joy'],\n",
    "['raising hands', 121, 'Joy'],\n",
    "['smiling face with heart-eyes', 111, 'Joy'],\n",
    "['two hearts', 103, 'Joy'],\n",
    "['face with tears of joy', 525, 'Non-Joy'],\n",
    "['heart', 309, 'Non-Joy'],\n",
    "['loudly crying face', 306, 'Non-Joy'],\n",
    "['rolling on the floor laughing', 200, 'Non-Joy'],\n",
    "['fire', 155, 'Non-Joy'],\n",
    "['folded hands', 104, 'Non-Joy'],\n",
    "['pleading face', 79, 'Non-Joy'],\n",
    "['skull', 72, 'Non-Joy'],\n",
    "['smiling face with heart-eyes', 68, 'Non-Joy'],\n",
    "['clapping hands', 63, 'Non-Joy']], columns = [\"Emoji\", \"Frequency\", \"Joy\"])\n",
    "\n",
    "import matplotlib.pyplot as plt\n",
    "import seaborn as sns\n",
    "\n",
    "sns.barplot(x = \"Emoji\", y = \"Frequency\", data = nj_df, hue = \"Joy\", palette = [\"orange\", \"teal\"], errwidth = .25)\n",
    "plt.xticks(rotation='90')\n",
    "plt.yticks(np.arange(0, 1100 , 100))\n",
    "plt.xlabel(\"Emoji Description\")\n",
    "plt.ylabel(\"Frequency\")\n",
    "plt.title(\"Top 10 Emojis\")\n",
    "plt.legend(loc='upper right')\n",
    "plt.savefig('Top10Emojis.png', bbox_inches='tight')\n",
    "plt.show()\n"
   ]
  },
  {
   "cell_type": "code",
   "execution_count": 27,
   "metadata": {
    "pycharm": {
     "is_executing": true
    }
   },
   "outputs": [],
   "source": [
    "#matching the emoji menaings back with the pictures\n",
    "#using a emoji data set with the meanings and pictures from Kaggle\n",
    "#https://www.kaggle.com/datasets/subinium/emojiimage-dataset\n",
    "\n",
    "emo = pd.read_csv('/Users/corinnesteuk/PycharmProjects/pythonProject/full_emoji.csv')\n",
    "d = {**joy_emojis, **nonjoy_emojis}\n",
    "emo = pd.DataFrame(data = (emo['emoji'], emo['name']))\n",
    "emo = emo.T\n",
    "i = 0\n",
    "k = list(d.keys())\n",
    "new_dict = {}\n",
    "while  i < len(d.keys()): \n",
    "    j = 0\n",
    "    while j < len(emo['name']):\n",
    "        if k[i] == emo['name'][j]:\n",
    "            new_dict[k[i]] = emo['emoji'][j]\n",
    "        j +=1\n",
    "        \n",
    "    i+=1\n",
    "        \n",
    "    \n",
    "\n",
    "    "
   ]
  },
  {
   "cell_type": "code",
   "execution_count": null,
   "metadata": {
    "pycharm": {
     "is_executing": true
    }
   },
   "outputs": [],
   "source": [
    "#making a table for the visual above\n",
    "from tabulate import tabulate\n",
    "t = []\n",
    "for k, v in new_dict.items():\n",
    "    t.append([k, v])\n",
    "\n",
    "headers = [\"Emoji Meaning\", \"Emoji Image\"]\n",
    "table = tabulate(t, headers, tablefmt=\"grid\")\n",
    "print(table)\n",
    "with open('EmojiLegendTable.txt', 'w') as f:\n",
    "    f.write(table)"
   ]
  },
  {
   "cell_type": "code",
   "execution_count": null,
   "metadata": {
    "pycharm": {
     "is_executing": true
    }
   },
   "outputs": [],
   "source": []
  }
 ],
 "metadata": {
  "kernelspec": {
   "display_name": "Python 3 (ipykernel)",
   "language": "python",
   "name": "python3"
  },
  "language_info": {
   "codemirror_mode": {
    "name": "ipython",
    "version": 3
   },
   "file_extension": ".py",
   "mimetype": "text/x-python",
   "name": "python",
   "nbconvert_exporter": "python",
   "pygments_lexer": "ipython3",
   "version": "3.8.8"
  }
 },
 "nbformat": 4,
 "nbformat_minor": 1
}