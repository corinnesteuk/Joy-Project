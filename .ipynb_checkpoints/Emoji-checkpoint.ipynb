{
 "cells": [
  {
   "cell_type": "code",
   "execution_count": 61,
   "metadata": {},
   "outputs": [],
   "source": [
    "import pandas as pd\n",
    "import emot\n",
    "from heapq import nlargest\n",
    "df = pd.read_csv('/Users/corinnesteuk/PycharmProjects/pythonProject/Joy-11-2021.csv')"
   ]
  },
  {
   "cell_type": "code",
   "execution_count": 42,
   "metadata": {
    "pycharm": {
     "name": "#%%\n"
    }
   },
   "outputs": [
    {
     "name": "stdout",
     "output_type": "stream",
     "text": [
      "done\n"
     ]
    }
   ],
   "source": [
    "\n",
    "tweet_emojis = {}\n",
    "emoji_meanings = {}\n",
    "full_emoji_dict = {}\n",
    "index = 0\n",
    "for tweet in df['content']:\n",
    "    \n",
    "    # find emoji meanings\n",
    "    emot_obj = emot.core.emot()\n",
    "    emojis = emot_obj.emoji(tweet)\n",
    "    x = emojis['value']\n",
    "    tweet_emojis[index] = x\n",
    "    # if there are emojis in the tweet replace them with their meanings\n",
    "    if len(emojis['value']) > 0:\n",
    "        e = []\n",
    "        for i in range(len(emojis['value'])):\n",
    "\n",
    "            meaning = emojis['mean'][i]\n",
    "            clean_meaning = meaning.replace(\"_\", \" \")\n",
    "            clean_meaning = clean_meaning.replace(\":\", \"\")\n",
    "            e.append(clean_meaning)\n",
    "        emoji_meanings[index] = e\n",
    "    else:\n",
    "        e = 'Null'\n",
    "        emoji_meanings[index] = 'Null'\n",
    "    full_emoji_dict[index] = [x, e]\n",
    "    index += 1\n",
    "\n",
    "#dictionary of the actual emoji pictures (key: index, value: list of emoji pictures)\n",
    "# print(tweet_emojis)\n",
    "#dictionary of the emoji meanings (key: index, value: list of cleaned string emoji meanings)\n",
    "# print(emoji_meanings)\n",
    "\n",
    "#combination of the above two dictionaries\n",
    "#key: index; value: list of 2 - postion 0 (of this list) has a list of the emoji pictures and \n",
    "#position 1 has a list of the emoji string meanings\n",
    "#print(full_emoji_dict)\n",
    "print('done')"
   ]
  },
  {
   "cell_type": "code",
   "execution_count": 51,
   "metadata": {},
   "outputs": [
    {
     "name": "stdout",
     "output_type": "stream",
     "text": [
      "['blue heart', 'yellow heart', 'grinning face with sweat', 'face in clouds', 'airplane', 'chains', 'face with tears of joy', 'face with tears of joy', 'face with tears of joy', 'smiling face', 'white heart', 'raising hands light skin tone', 'folded hands medium-dark skin tone', 'party popper', 'thumbs up medium skin tone', 'graduation cap', 'Christmas tree', 'hundred points', 'purple heart', 'sparkles', 'purple heart', 'sparkles', 'red heart', 'winking face', 'smiling face with smiling eyes', 'fallen leaf', 'musical notes', 'musical notes', 'orange heart', 'orange heart', 'orange heart', 'grimacing face', 'hundred points', 'smiling face with hearts', 'smiling face with hearts', 'smiling face with hearts', 'red heart', 'green heart', 'beer mug', 'beer mug', 'red heart', 'raised fist medium skin tone', 'hundred points', 'folded hands medium-dark skin tone', 'OK hand medium-light skin tone', 'fire', 'face with tears of joy', 'face with tears of joy', 'sun', 'taco', 'cyclone', 'two hearts', 'partying face', 'upside-down face', 'red heart', 'blue heart', 'face with tears of joy', 'woman shrugging medium-dark skin tone', 'red heart', 'smiling face with smiling eyes', 'red heart', 'heart on fire', 'black heart', 'black heart', 'purple heart', 'red heart', 'hundred points', 'sparkles', 'writing hand', 'rugby football', 'sun', 'woman playing handball medium-light skin tone', 'shortcake', 'books', 'artist palette', 'poultry leg', 'camera with flash', 'star-struck', 'fallen leaf', 'smiling face with smiling eyes', 'party popper', 'red heart', 'musical notes', 'rose', 'pleading face', 'fire', 'sign of the horns', 'fire', 'paw prints', 'revolving hearts', 'smiling face with hearts', 'smiling face with smiling eyes', 'double exclamation mark', 'blue heart', 'blue heart', 'menorah', 'menorah', 'loudly crying face', 'loudly crying face', 'loudly crying face', 'two hearts', 'smiling face with hearts', 'snowflake', 'pleading face', 'red heart', 'smiling face with smiling eyes', 'camera with flash', 'folded hands', 'blue heart']\n"
     ]
    }
   ],
   "source": [
    "#list of emoji meanings to use in the count_elements function\n",
    "#removes the null entries from the emoji_meanings dictionary values\n",
    "val = emoji_meanings.values()\n",
    "\n",
    "def remove_meaning_nulls(i):\n",
    "    val1 = []\n",
    "    for i in val:\n",
    "        if i != \"Null\":\n",
    "            for j in i:\n",
    "                val1.append(j)\n",
    "    return val1\n",
    "emoji_text = remove_meaning_nulls(val)\n",
    "#print(emoji_text)\n"
   ]
  },
  {
   "cell_type": "code",
   "execution_count": 67,
   "metadata": {},
   "outputs": [],
   "source": [
    "#removing the skin tone words and colors from the emoji meanings\n",
    "stopwords = ['medium-light', 'medium', 'dark', 'skin', 'tone', 'light', 'medium-dark', 'black', 'brown', 'white','blue', 'red', 'orange', 'yellow', 'green', 'purple']"
   ]
  },
  {
   "cell_type": "code",
   "execution_count": 68,
   "metadata": {},
   "outputs": [
    {
     "name": "stdout",
     "output_type": "stream",
     "text": [
      "['heart', 'heart', 'grinning face with sweat', 'face in clouds', 'airplane', 'chains', 'face with tears of joy', 'face with tears of joy', 'face with tears of joy', 'smiling face', 'heart', 'raising hands', 'folded hands', 'party popper', 'thumbs up', 'graduation cap', 'Christmas tree', 'hundred points', 'heart', 'sparkles', 'heart', 'sparkles', 'heart', 'winking face', 'smiling face with smiling eyes', 'fallen leaf', 'musical notes', 'musical notes', 'heart', 'heart', 'heart', 'grimacing face', 'hundred points', 'smiling face with hearts', 'smiling face with hearts', 'smiling face with hearts', 'heart', 'heart', 'beer mug', 'beer mug', 'heart', 'raised fist', 'hundred points', 'folded hands', 'OK hand', 'fire', 'face with tears of joy', 'face with tears of joy', 'sun', 'taco', 'cyclone', 'two hearts', 'partying face', 'upside-down face', 'heart', 'heart', 'face with tears of joy', 'woman shrugging', 'heart', 'smiling face with smiling eyes', 'heart', 'heart on fire', 'heart', 'heart', 'heart', 'heart', 'hundred points', 'sparkles', 'writing hand', 'rugby football', 'sun', 'woman playing handball', 'shortcake', 'books', 'artist palette', 'poultry leg', 'camera with flash', 'star-struck', 'fallen leaf', 'smiling face with smiling eyes', 'party popper', 'heart', 'musical notes', 'rose', 'pleading face', 'fire', 'sign of the horns', 'fire', 'paw prints', 'revolving hearts', 'smiling face with hearts', 'smiling face with smiling eyes', 'double exclamation mark', 'heart', 'heart', 'menorah', 'menorah', 'loudly crying face', 'loudly crying face', 'loudly crying face', 'two hearts', 'smiling face with hearts', 'snowflake', 'pleading face', 'heart', 'smiling face with smiling eyes', 'camera with flash', 'folded hands', 'heart']\n"
     ]
    }
   ],
   "source": [
    "#using the stopwords for skin tone above and removing them \n",
    "# this should happen before the counting elements\n",
    "#returns a list of the clean emoji meanings\n",
    "def remove_stopwords(values):\n",
    "    new = []\n",
    "    for k in values:\n",
    "        querywords = k.split()\n",
    "        resultwords  = [word for word in querywords if word.lower() not in stopwords]\n",
    "        result = ' '.join(resultwords)    \n",
    "        new.append(result)\n",
    "    return new\n",
    "clean_emoji_meanings = remove_stopwords(emoji_text)\n",
    "print(clean_emoji_meanings)\n"
   ]
  },
  {
   "cell_type": "code",
   "execution_count": 69,
   "metadata": {},
   "outputs": [
    {
     "name": "stdout",
     "output_type": "stream",
     "text": [
      "{'heart': 25, 'grinning face with sweat': 1, 'face in clouds': 1, 'airplane': 1, 'chains': 1, 'face with tears of joy': 6, 'smiling face': 1, 'raising hands': 1, 'folded hands': 3, 'party popper': 2, 'thumbs up': 1, 'graduation cap': 1, 'Christmas tree': 1, 'hundred points': 4, 'sparkles': 3, 'winking face': 1, 'smiling face with smiling eyes': 5, 'fallen leaf': 2, 'musical notes': 3, 'grimacing face': 1, 'smiling face with hearts': 5, 'beer mug': 2, 'raised fist': 1, 'OK hand': 1, 'fire': 3, 'sun': 2, 'taco': 1, 'cyclone': 1, 'two hearts': 2, 'partying face': 1, 'upside-down face': 1, 'woman shrugging': 1, 'heart on fire': 1, 'writing hand': 1, 'rugby football': 1, 'woman playing handball': 1, 'shortcake': 1, 'books': 1, 'artist palette': 1, 'poultry leg': 1, 'camera with flash': 2, 'star-struck': 1, 'rose': 1, 'pleading face': 2, 'sign of the horns': 1, 'paw prints': 1, 'revolving hearts': 1, 'double exclamation mark': 1, 'menorah': 2, 'loudly crying face': 3, 'snowflake': 1}\n"
     ]
    }
   ],
   "source": [
    "#function to count the number of elements appearing in a list \n",
    "#using the list of string emoji meanings (that we removed the nulls from)\n",
    "\n",
    "def count_elements(listOfElems):\n",
    "    emoji_count = {}\n",
    "    ''' Check if given list contains any duplicates '''\n",
    "    for elem in listOfElems:\n",
    "        emoji_count[elem] = listOfElems.count(elem)\n",
    "    return emoji_count\n",
    "\n",
    "#dictionary- key: emoji textual meaning; value: number of times it shows up in data\n",
    "emoji_dict = count_elements(clean_emoji_meanings)\n",
    "print(emoji_dict)"
   ]
  },
  {
   "cell_type": "code",
   "execution_count": 73,
   "metadata": {},
   "outputs": [
    {
     "name": "stdout",
     "output_type": "stream",
     "text": [
      "{'heart': 25, 'face with tears of joy': 6, 'folded hands': 3, 'hundred points': 4, 'sparkles': 3, 'smiling face with smiling eyes': 5, 'musical notes': 3, 'smiling face with hearts': 5, 'fire': 3, 'loudly crying face': 3}\n"
     ]
    }
   ],
   "source": [
    "\n",
    "#What are the top 10 most frequently used emojis in dictionary?\n",
    "\n",
    "def top_ten_emojis(emoji_dict):\n",
    "    i = 0\n",
    "    emoji_words = list(emoji_dict.keys())\n",
    "    emoji_counts = list(emoji_dict.values())\n",
    "    popular_emojis = {}\n",
    "    indices = range(0, len(emoji_counts)-1)\n",
    "    maximum_counts = nlargest(10, emoji_counts)\n",
    "    while i < len(emoji_counts):\n",
    "        if emoji_counts[i] in maximum_counts:\n",
    "            popular_emojis[emoji_words[i]] = emoji_counts[i]\n",
    "        i +=1\n",
    "    return popular_emojis\n",
    "popular_emojis = top_ten_emojis(emoji_dict)\n",
    "print(popular_emojis)\n",
    "    \n",
    "\n"
   ]
  },
  {
   "cell_type": "code",
   "execution_count": null,
   "metadata": {},
   "outputs": [],
   "source": []
  }
 ],
 "metadata": {
  "kernelspec": {
   "display_name": "Python 3 (ipykernel)",
   "language": "python",
   "name": "python3"
  },
  "language_info": {
   "codemirror_mode": {
    "name": "ipython",
    "version": 3
   },
   "file_extension": ".py",
   "mimetype": "text/x-python",
   "name": "python",
   "nbconvert_exporter": "python",
   "pygments_lexer": "ipython3",
   "version": "3.8.8"
  }
 },
 "nbformat": 4,
 "nbformat_minor": 1
}
