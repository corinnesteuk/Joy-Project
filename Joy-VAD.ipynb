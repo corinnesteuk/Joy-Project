{
 "cells": [
  {
   "cell_type": "code",
   "execution_count": 73,
   "id": "c2368fd0",
   "metadata": {},
   "outputs": [],
   "source": [
    "\n",
    "import pandas as pd\n",
    "import seaborn as sns\n",
    "import plotly.express as px\n",
    "import matplotlib.pyplot as plt\n",
    "import sklearn\n",
    "from sklearn.feature_extraction.text import CountVectorizer\n",
    "from sklearn.feature_extraction.text import TfidfVectorizer\n",
    "from sklearn.cluster import KMeans\n",
    "#from wordcloud import WordCloud"
   ]
  },
  {
   "cell_type": "code",
   "execution_count": 71,
   "id": "c4106e8d",
   "metadata": {},
   "outputs": [],
   "source": [
    "df = pd.read_csv(\"Scaled-VAD.csv\", index_col = 0)\n"
   ]
  },
  {
   "cell_type": "code",
   "execution_count": 7,
   "id": "386fc180",
   "metadata": {},
   "outputs": [
    {
     "name": "stdout",
     "output_type": "stream",
     "text": [
      "                                                   Tweet         V         A  \\\n",
      "18221  pengepandatante coastlieberian nontoxickids si...  0.244250 -0.309936   \n",
      "18222                                          happening  0.354000  0.435269   \n",
      "18223                 chilling sky 360c observation deck  0.424000 -0.152637   \n",
      "18224                            saw peonies n lost shit -0.712667 -0.606109   \n",
      "18225                              shoot kill muthafucka -0.856000 -0.421950   \n",
      "\n",
      "              D      Joy  \n",
      "18221 -0.321715  Non-Joy  \n",
      "18222  0.270564  Non-Joy  \n",
      "18223 -0.161407  Non-Joy  \n",
      "18224 -0.749957  Non-Joy  \n",
      "18225 -0.544749  Non-Joy  \n"
     ]
    }
   ],
   "source": [
    "df['Joy'] = df['Joy'].replace(['NoJoy'],'Non-Joy')\n",
    "print(df.tail())"
   ]
  },
  {
   "cell_type": "code",
   "execution_count": 47,
   "id": "301e18ad",
   "metadata": {},
   "outputs": [
    {
     "name": "stdout",
     "output_type": "stream",
     "text": [
      "   index                                              Tweet         V  \\\n",
      "0    349                                😎⏳ chicago illinois -1.000000   \n",
      "1    350                rain rain go away guygoss6 gossowen  0.062667   \n",
      "2    351               favor abundance peace love happiness  0.809200   \n",
      "3    352                          srbethanyfsp claro que sí -1.000000   \n",
      "4    353  chiefrebelle rebelliousval librariesval valsad...  0.969000   \n",
      "\n",
      "          A  \n",
      "0 -1.000000  \n",
      "1 -0.277215  \n",
      "2  0.119872  \n",
      "3 -1.000000  \n",
      "4  0.498668  \n"
     ]
    }
   ],
   "source": [
    "#Just Joy Tweets: These are all joy tweets with only the valence and arousal scores\n",
    "#9113 examples index from 0 to 9112\n",
    "joy = df.where(df[\"Joy\"] == \"Joy\")\n",
    "joy = joy.dropna(axis=0)\n",
    "joy = joy.reset_index()\n",
    "joy = joy.drop(columns = [\"D\", \"Joy\"])\n",
    "\n",
    "#Non-Joy Tweets Only\n",
    "nonjoy = df.where(df[\"Joy\"] == \"Non-Joy\")\n",
    "nonjoy = nonjoy.dropna(axis=0)\n",
    "nonjoy = nonjoy.reset_index()\n",
    "nonjoy = nonjoy.drop(columns = [\"D\", \"Joy\"])"
   ]
  },
  {
   "cell_type": "code",
   "execution_count": 44,
   "id": "7d65b8b4",
   "metadata": {},
   "outputs": [],
   "source": [
    "# List of valence/arousal for heatmap\n",
    "va_ar = []\n",
    "i = 0\n",
    "while i < len(joy[\"V\"]):\n",
    "    va_ar.append([joy[\"V\"][i], joy[\"A\"][i]])\n",
    "    i+=1\n"
   ]
  },
  {
   "cell_type": "code",
   "execution_count": 45,
   "id": "0813f7aa",
   "metadata": {},
   "outputs": [
    {
     "data": {
      "image/png": "[encoded data removed]",
      "text/plain": [
       "<Figure size 432x288 with 2 Axes>"
      ]
     },
     "metadata": {
      "needs_background": "light"
     },
     "output_type": "display_data"
    }
   ],
   "source": [
    "#Is this doing heatmaps correctly?\n",
    "sns.heatmap(va_ar, center=0)\n",
    "plt.show()"
   ]
  },
  {
   "cell_type": "code",
   "execution_count": 56,
   "id": "1443598f",
   "metadata": {},
   "outputs": [
    {
     "name": "stdout",
     "output_type": "stream",
     "text": [
      "Averages Across Joy Tweets~ Valence: 0.42930308815274343; Arousal: -0.12310381374727908\n",
      "Averages Across Non-Joy Tweets~ Valence: 0.007551378218274622; Arousal: -0.2982417947397152\n"
     ]
    }
   ],
   "source": [
    "#Valence/Arousal Averages Across Joy Tweets\n",
    "avg_va = str(joy[\"V\"].mean())\n",
    "avg_ar = str(joy[\"A\"].mean())\n",
    "print(\"Averages Across Joy Tweets~ \" + \"Valence: \" + avg_va + \"; Arousal: \"+  avg_ar)\n",
    "\n",
    "#Valence/Arousal Averages Across Non-Joy Tweets\n",
    "avg_va_nonjoy = str(nonjoy[\"V\"].mean())\n",
    "avg_ar_nonjoy = str(nonjoy[\"A\"].mean())\n",
    "print(\"Averages Across Non-Joy Tweets~ \" + \"Valence: \" + avg_va_nonjoy + \"; Arousal: \"+  avg_ar_nonjoy)"
   ]
  },
  {
   "cell_type": "code",
   "execution_count": 58,
   "id": "b599a1bc",
   "metadata": {},
   "outputs": [
    {
     "name": "stdout",
     "output_type": "stream",
     "text": [
      "frys social worker mrs paauwe reminding faculty selfcare essential harryefryschool frypossiblility listen encourage joy\n"
     ]
    }
   ],
   "source": [
    "processed_data = []\n",
    "\n",
    "for doc in joy[\"Tweet\"]: \n",
    "  processed_data.append(doc)"
   ]
  },
  {
   "cell_type": "code",
   "execution_count": 63,
   "id": "2cf21f6e",
   "metadata": {},
   "outputs": [],
   "source": [
    "vectorizer = CountVectorizer() \n",
    "\n",
    "vectors = vectorizer.fit_transform(processed_data)"
   ]
  },
  {
   "cell_type": "code",
   "execution_count": 66,
   "id": "29be96a7",
   "metadata": {},
   "outputs": [],
   "source": [
    "model = KMeans(n_clusters=10, init='k-means++', max_iter=200, n_init=10)\n",
    "\n",
    "kmeans_vectors = model.fit_predict(vectors)"
   ]
  },
  {
   "cell_type": "code",
   "execution_count": 67,
   "id": "fe3d0b05",
   "metadata": {},
   "outputs": [
    {
     "name": "stdout",
     "output_type": "stream",
     "text": [
      "Cluster 0\n",
      "\n"
     ]
    },
    {
     "ename": "NameError",
     "evalue": "name 'WordCloud' is not defined",
     "output_type": "error",
     "traceback": [
      "\u001b[0;31m---------------------------------------------------------------------------\u001b[0m",
      "\u001b[0;31mNameError\u001b[0m                                 Traceback (most recent call last)",
      "\u001b[0;32m/var/folders/zs/1x8x281d6mg487bnxd0bfzvm0000gn/T/ipykernel_98824/2960484939.py\u001b[0m in \u001b[0;36m<module>\u001b[0;34m\u001b[0m\n\u001b[1;32m      9\u001b[0m    \u001b[0;31m#text=s['data'].str.cat(sep=' ')\u001b[0m\u001b[0;34m\u001b[0m\u001b[0;34m\u001b[0m\u001b[0;34m\u001b[0m\u001b[0m\n\u001b[1;32m     10\u001b[0m    \u001b[0;31m#text=' '.join([word for word in text.split() if word.lower() not in stopWords])\u001b[0m\u001b[0;34m\u001b[0m\u001b[0;34m\u001b[0m\u001b[0;34m\u001b[0m\u001b[0m\n\u001b[0;32m---> 11\u001b[0;31m    \u001b[0mwordcloud\u001b[0m \u001b[0;34m=\u001b[0m \u001b[0mWordCloud\u001b[0m\u001b[0;34m(\u001b[0m\u001b[0mmax_font_size\u001b[0m\u001b[0;34m=\u001b[0m\u001b[0;36m50\u001b[0m\u001b[0;34m,\u001b[0m \u001b[0mmax_words\u001b[0m\u001b[0;34m=\u001b[0m\u001b[0;36m100\u001b[0m\u001b[0;34m,\u001b[0m \u001b[0mbackground_color\u001b[0m\u001b[0;34m=\u001b[0m\u001b[0;34m\"white\"\u001b[0m\u001b[0;34m)\u001b[0m\u001b[0;34m.\u001b[0m\u001b[0mgenerate\u001b[0m\u001b[0;34m(\u001b[0m\u001b[0ms\u001b[0m\u001b[0;34m)\u001b[0m\u001b[0;34m\u001b[0m\u001b[0;34m\u001b[0m\u001b[0m\n\u001b[0m\u001b[1;32m     12\u001b[0m \u001b[0;34m\u001b[0m\u001b[0m\n\u001b[1;32m     13\u001b[0m    \u001b[0mplt\u001b[0m\u001b[0;34m.\u001b[0m\u001b[0mfigure\u001b[0m\u001b[0;34m(\u001b[0m\u001b[0;34m)\u001b[0m\u001b[0;34m\u001b[0m\u001b[0;34m\u001b[0m\u001b[0m\n",
      "\u001b[0;31mNameError\u001b[0m: name 'WordCloud' is not defined"
     ]
    }
   ],
   "source": [
    "#This is for WordCloud but I cannot install package\n",
    "result={'cluster':kmeans_vectors,'data':processed_data}\n",
    "\n",
    "\n",
    "result=pd.DataFrame(result)\n",
    "\n",
    "for k in range(0,10):\n",
    "   print(\"Cluster {}\\n\".format(k))\n",
    "   s=result[result.cluster==k]\n",
    "   #text=s['data'].str.cat(sep=' ')\n",
    "   #text=' '.join([word for word in text.split() if word.lower() not in stopWords])\n",
    "   wordcloud = WordCloud(max_font_size=50, max_words=100, background_color=\"white\").generate(s)\n",
    "  \n",
    "   plt.figure()\n",
    "   plt.imshow(wordcloud, interpolation=\"bilinear\")\n",
    "   plt.axis(\"off\")\n",
    "   plt.show()"
   ]
  },
  {
   "cell_type": "code",
   "execution_count": null,
   "id": "0a78d819",
   "metadata": {},
   "outputs": [],
   "source": []
  }
 ],
 "metadata": {
  "kernelspec": {
   "display_name": "Python 3 (ipykernel)",
   "language": "python",
   "name": "python3"
  },
  "language_info": {
   "codemirror_mode": {
    "name": "ipython",
    "version": 3
   },
   "file_extension": ".py",
   "mimetype": "text/x-python",
   "name": "python",
   "nbconvert_exporter": "python",
   "pygments_lexer": "ipython3",
   "version": "3.8.8"
  }
 },
 "nbformat": 4,
 "nbformat_minor": 5
}
