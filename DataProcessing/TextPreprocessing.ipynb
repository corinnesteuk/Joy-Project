{
 "cells": [
  {
   "cell_type": "code",
   "execution_count": 3,
   "id": "bedf2cea",
   "metadata": {},
   "outputs": [],
   "source": [
    "import json\n",
    "import pandas as pd\n",
    "import re\n",
    "import string\n",
    "import nltk\n",
    "from nltk.corpus import stopwords\n",
    "from nltk.stem import RegexpStemmer\n",
    "import emot\n",
    "\n",
    "\n",
    "def text_cleaning(month, year, joy, rm_urls, rm_tags, rm_punc, rm_stop, lower):\n",
    "    \n",
    "    # determine if looking at joy or no joy tweets\n",
    "    if joy == True: \n",
    "        path = 'Joy-NoJoy/Joy-'\n",
    "    \n",
    "    else:\n",
    "        path = 'Joy-NoJoy/NoJoy-'\n",
    "        \n",
    "        \n",
    "    file = '/joy/joyData/' + path + str(month) + '-' + str(year) + '.csv'\n",
    "    df = pd.read_csv(file)\n",
    "    \n",
    "    \n",
    "    clean_tweets = []\n",
    "    clean_stems = []\n",
    "    emoji_meanings = []\n",
    "    \n",
    "    for tweet in df['content']:\n",
    "        \n",
    "\n",
    "        # remove URLs\n",
    "        if rm_urls == True:\n",
    "        \n",
    "            url_regex = r\"\\b((?:https?://)?(?:(?:www\\.)?(?:[\\da-z\\.-]+)\\.(?:[a-z]{2,6})|(?:(?:25[0-5]|2[0-4][0-9]|[01]?[0-9][0-9]?)\\.){3}(?:25[0-5]|2[0-4][0-9]|[01]?[0-9][0-9]?)|(?:(?:[0-9a-fA-F]{1,4}:){7,7}[0-9a-fA-F]{1,4}|(?:[0-9a-fA-F]{1,4}:){1,7}:|(?:[0-9a-fA-F]{1,4}:){1,6}:[0-9a-fA-F]{1,4}|(?:[0-9a-fA-F]{1,4}:){1,5}(?::[0-9a-fA-F]{1,4}){1,2}|(?:[0-9a-fA-F]{1,4}:){1,4}(?::[0-9a-fA-F]{1,4}){1,3}|(?:[0-9a-fA-F]{1,4}:){1,3}(?::[0-9a-fA-F]{1,4}){1,4}|(?:[0-9a-fA-F]{1,4}:){1,2}(?::[0-9a-fA-F]{1,4}){1,5}|[0-9a-fA-F]{1,4}:(?:(?::[0-9a-fA-F]{1,4}){1,6})|:(?:(?::[0-9a-fA-F]{1,4}){1,7}|:)|fe80:(?::[0-9a-fA-F]{0,4}){0,4}%[0-9a-zA-Z]{1,}|::(?:ffff(?::0{1,4}){0,1}:){0,1}(?:(?:25[0-5]|(?:2[0-4]|1{0,1}[0-9]){0,1}[0-9])\\.){3,3}(?:25[0-5]|(?:2[0-4]|1{0,1}[0-9]){0,1}[0-9])|(?:[0-9a-fA-F]{1,4}:){1,4}:(?:(?:25[0-5]|(?:2[0-4]|1{0,1}[0-9]){0,1}[0-9])\\.){3,3}(?:25[0-5]|(?:2[0-4]|1{0,1}[0-9]){0,1}[0-9])))(?::[0-9]{1,4}|[1-5][0-9]{4}|6[0-4][0-9]{3}|65[0-4][0-9]{2}|655[0-2][0-9]|6553[0-5])?(?:/[\\w\\.-]*)*/?)\\b\"\n",
    "            tweet = re.sub(url_regex, '', tweet)\n",
    "        \n",
    "        # remove hashtags\n",
    "        if rm_tags == True:\n",
    "            \n",
    "            tag_regex = '/#\\w+\\s*/'\n",
    "            tweet = re.sub(tag_regex, '', tweet)\n",
    "            \n",
    "        # remove punctuation\n",
    "        if rm_punc == True:\n",
    "            \n",
    "            tweet = \"\".join([char for char in tweet if char not in string.punctuation and char not in ['\\n']])\n",
    "        \n",
    "        # convert to lower case\n",
    "        if lower == True:\n",
    "            \n",
    "            tweet = tweet.lower()\n",
    "            \n",
    "        # tokenization (second one removes emojis)\n",
    "        word_tokens = nltk.word_tokenize(tweet)\n",
    "        #word_tokens = RegexpTokenizer(r'\\w+').tokenize(tweet)\n",
    "        \n",
    "        # remove stop words\n",
    "        if rm_stop == True:\n",
    "            \n",
    "            #nltk.download('stopwords')\n",
    "            \n",
    "            non_stopwords = [word for word in word_tokens if word not in stopwords.words('english')]\n",
    "            tweet = \" \".join(non_stopwords)\n",
    "        \n",
    "        clean_tweets.append(tweet)\n",
    "          \n",
    "            \n",
    "        # stemming\n",
    "        regexp = RegexpStemmer('ing$|s$|e$|able$', min=4)\n",
    "            \n",
    "        stems = []\n",
    "        for word in word_tokens:\n",
    "            stems.append(regexp.stem(word))\n",
    "                             \n",
    "        stem = \" \".join(stems)\n",
    "    \n",
    "        clean_stems.append(stem)\n",
    "        \n",
    "        \n",
    "        # find emoji meanings\n",
    "        emot_obj = emot.core.emot() \n",
    "        emojis = emot_obj.emoji(tweet)\n",
    "        tweet_emojis = []\n",
    "    \n",
    "        # if there are emojis in the tweet replace them with their meanings\n",
    "        if len(emojis['value']) > 0:\n",
    "                \n",
    "            for i in range(len(emojis['value'])):\n",
    "                    \n",
    "                meaning = emojis['mean'][i]\n",
    "                clean_meaning = meaning.replace(\"_\", \" \")\n",
    "                clean_meaning = meaning.replace(\":\", \"\")\n",
    "                tweet_emojis.append(clean_meaning)\n",
    "        \n",
    "        emoji_meanings.append(tweet_emojis)\n",
    "                            \n",
    "        \n",
    "        \n",
    "    # write df to file with new column that includes the cleaned tweets\n",
    "    df['clean_tweet'] = clean_tweets\n",
    "    df['clean_stems'] = clean_stems\n",
    "    df['emoji_meanings'] = emoji_meanings\n",
    "    df.to_csv(path + str(month) + '-' + str(year) + '.csv', index = False, mode = 'w')\n",
    "    \n",
    "    return clean_tweets\n",
    "    \n"
   ]
  },
  {
   "cell_type": "code",
   "execution_count": 4,
   "id": "75af6f00",
   "metadata": {},
   "outputs": [
    {
     "name": "stdout",
     "output_type": "stream",
     "text": [
      "['09', '2019']\n",
      "['10', '2019']\n",
      "['11', '2019']\n",
      "['12', '2019']\n",
      "['01', '2020']\n",
      "['02', '2020']\n",
      "['03', '2020']\n",
      "['04', '2020']\n",
      "['05', '2020']\n",
      "['06', '2020']\n",
      "['07', '2020']\n",
      "['08', '2020']\n",
      "['09', '2020']\n",
      "['10', '2020']\n",
      "['11', '2020']\n",
      "['12', '2020']\n",
      "['01', '2021']\n",
      "['02', '2021']\n",
      "['03', '2021']\n",
      "['04', '2021']\n",
      "['05', '2021']\n",
      "['06', '2021']\n",
      "['07', '2021']\n",
      "['08', '2021']\n",
      "['09', '2021']\n",
      "['10', '2021']\n",
      "['11', '2021']\n",
      "['12', '2021']\n",
      "['01', '2022']\n"
     ]
    }
   ],
   "source": [
    "# create a list of months to loop through for counting joy tweets \n",
    "dates = pd.date_range(start = '09/01/2019', end = '01/31/2022', freq = 'M')\n",
    "\n",
    "\n",
    "months = []\n",
    "for date in dates:\n",
    "    date = str(date).split('-')\n",
    "    year = date[0]\n",
    "    month = date[1]\n",
    "    months.append([month, year])\n",
    "    \n",
    "    \n",
    "# loop through months and clean both joy and no joy tweets\n",
    "\n",
    "for month in months:\n",
    "    \n",
    "    text_cleaning(month = month[0], year = month[1], joy = True, rm_urls = True, rm_tags = False, rm_punc = True, rm_stop = True, lower = True)\n",
    "    text_cleaning(month = month[0], year = month[1], joy = False, rm_urls = True, rm_tags = False, rm_punc = True, rm_stop = True, lower = True)\n",
    "    print(month)"
   ]
  },
  {
   "cell_type": "code",
   "execution_count": 19,
   "id": "61ea0724",
   "metadata": {},
   "outputs": [
    {
     "name": "stdout",
     "output_type": "stream",
     "text": [
      "     Word Porter Lancaster  RegExp Snowball   Lemma\n",
      "0     joy    joy       joy     joy      joy     joy\n",
      "1    joys    joy       joy     joy      joy     joy\n",
      "2   enjoy  enjoy     enjoy   enjoy    enjoy   enjoy\n",
      "3  joyful    joy       joy  joyful      joy  joyful\n",
      "4  joyous  joyou       joy   joyou   joyous  joyous\n"
     ]
    }
   ],
   "source": [
    "# Look for Stemmer/Lemmatizer\n",
    "import nltk \n",
    "import pandas as pd\n",
    "from nltk.stem import PorterStemmer\n",
    "from nltk.stem import LancasterStemmer\n",
    "from nltk.stem import WordNetLemmatizer\n",
    "from nltk.stem import RegexpStemmer\n",
    "from nltk.stem import SnowballStemmer\n",
    "\n",
    "\n",
    "# create an object for each of the stemmers\n",
    "porter = PorterStemmer()\n",
    "lancaster=LancasterStemmer()\n",
    "wordnet_lemmatizer = WordNetLemmatizer()\n",
    "regexp = RegexpStemmer('ing$|s$|e$|able$', min=4)\n",
    "snowball = SnowballStemmer(\"english\")\n",
    "\n",
    "\n",
    "words = ['joy', 'joys', 'enjoy', 'joyful', 'joyous']\n",
    "\n",
    "stems = []\n",
    "for word in words:\n",
    "  stems.append([word, porter.stem(word), lancaster.stem(word), regexp.stem(word), snowball.stem(word), wordnet_lemmatizer.lemmatize(word, pos='v')])\n",
    "\n",
    "\n",
    "df = pd.DataFrame(stems, columns=['Word', 'Porter', 'Lancaster', 'RegExp', 'Snowball', 'Lemma'])\n",
    "print(df)\n",
    "\n",
    "# Lancaster includes the most variations of joy\n",
    "# Using regular expressions to stem or word net lemmatizer includes the least\n",
    "# Snowball and Porter include joy and joyful but not joyous\n",
    "# None include enjoy"
   ]
  },
  {
   "cell_type": "code",
   "execution_count": 32,
   "id": "a6dd77db",
   "metadata": {},
   "outputs": [
    {
     "name": "stdout",
     "output_type": "stream",
     "text": [
      "['wanted wish yall happy 2020 thank making 2019 wonderful journey may new year bring much joy peace happiness love prosperity good health wealth blessingshappynewyear…', 'sun sets first day 2020flaming style happy new year everyone may lives light joy promise loveamen gratefulheart newyearsday2020…', 'sending love joy mary meyer school families friends happy new year2020 mary meyer school', 'audrinalane happy happy joy joy chicagos south side illinois', '2020 taking joy back tell satan want know 2020 thehand virgin hotels chicago', 'bad stuff still lot good ’ really loved getting deeper podcasting world ariynbf crew listeners kind fun supportive truly joy thank alisonrosen', 'teachers worked hard bring much joy love learning laughter fairviewsd72 school year ’ wait see ’ store 2020 happy new year', 'much turning new leafhope 2020 brings joy happiness seek may learn grow better together happy new year', 'hope video brings tears joy well love technology boy receives new 3dprinted hands christmas via q13fox 3dprinting stemchristmas', 'family friends globe send peace joy love enter new decade much hope planet god helping us shall continue to…', 'love article joy many tidbits good usual advice “ fact first step towards joyful life may letting go ideas looks like – recognising ” makejoyhappen happynewyear2020 joy', '2020 taking joy back tell satan want know 2020 thehand virgin hotels chicago', 'happy new year therichardsons may year bring love joy peace prosperity 💋 metropolitan club', 'year ’ even joy love 2020 happy new year topnine old irving park chicago', 'h0rch4t4 aww thank boo🥺💗 appreciate sm hope 2020 filled blessings peace joy well ✨', '’ joy got believe see faith without works dead 🙏🏾😘💜', '┏━━┓┏━━┓┏━━┓┏━━┓┗━┓┃┃┏┓┃┗━┓┃┃┏┓┃┏━┛┃┃┃┃┃┏━┛┃┃┃┃┃may year filled joy amp love┃┏━┛┃┃┃┃┃┏━┛┃┃┃┃┃┗━┓┃┗┛┃┃┗━┓┃┗┛┃┗━━┛┗━━┛┗━━┛┗━━┛happy new year', '2018 joy 2019 wonder although lot interviews forgiveness 2020 appreciation', '1littlebigmouth beautiful may 2020 bring moments joy ever', 'happy new year may dreams become intentions actions bring joy chicago illinois', 'carlreiner may god bless continued health happiness yearmay life continue filled fulfillment creativityi grew thank joy laughter youve brought 😁😆❤☝️', 'year full happiness amp joy 🤍', 'yo lit baby happy 2020 may experience nothing joy happiness decade', 'wishing yall merry amp happy new year may 2020 bring ya much joy peace happiness love prosperity amp blessings happynewyear 2020 newyear barbara walters barbarawalters barbarawalters2020 chicago…', 'dmitri wish 2020 full love joy purpose peacehappynewyear2020bostonterriersofinstagram uptown chicago', 'illinois smokers enjoy buddha lovaz bone amgs vertical joy ride preferred blunt rotation songits officially legal 😁😁😁not bad third way billionaire governor', 'disdain holidays ’ exactly know guess angers ’ find joy anymore things use enjoy got excited', 'counting start new decadehere ’ peace joy lifechanging progress happy new year', 'cleanse ’ bring joy', 'happy new year 🎊🎈🎆 2020 awesome wish everyone happiness joy good health success newyearseve happynewyear2020 fashionblogger partyoutfit newyearsoutfit chicago illinois', 'look back favorite memories 2019 wishing peace joy prosperity 2020 happynewyear grwc20', 'cruisin 2020 best way know mtjoy metrochicago mt joy chicago il w maddisuesue', 'countdown begun2020 magically royalthank loyal royals past years years comewe bid relaxation new year south lawndale chicago', '2020 gon na lit like thisthe countdown begun2020 magically royalthank loyal royals past years years comewe bid relaxation new…', 'punkystarshine bring much joy', 'joythedrummer thanks joy ❤️ ’ wait vibe', 'found next home 2020 decade limits joy bëhappiness friends', 'top song 2019 undeniable massive collaboration celebration joy tale confidence face caution personal champion decadecongratulations 2007 ’ “ int ’ l players anthem ” ugk ft outkast13 undefeated years counting', 'christmas 1934 7yearold writesdear baby jesus quickly come earth bring joy children also bring joy would like volksschott green clothing mass heart jesus always goodgreetings josephratzinger popebenedictxvi', 'realterryboers happy birthday terry great week ’ heard couple times radio ’ always pleasure joy thanks lot man', 'thank god ’ thursday isa5512 “ 12 “ shall go joy led peace mountains hills shall break forth singing trees field shall clap hands ” ’ new season blessings', 'joy 7yearold son coming downstairs early morning caps emphasis assuage thought would anger daddyi threw upbut littleand chuncks little little right lol dadmannwalking', 'feel ’ city people love joy magnificent mile chicago illinois', 'hude congratulations one mike r mike retiring today 20 years working business officethank hard work optimism bringing joy us park…', 'janetslegacy ithl123 dont care anybody thinks says man one make smile aglow seems full joy cant tell love guys time chose jermaine mustve counts', 'joy yesterday helping people make first legal cannabis purchase unexplainable everybody happy felt like movie😂', 'visualize live 🌎💫joypureesperanza', 'miroslawdudek relatable😉joy', 'praying year 2020 filled god ’ blessings joy happiness love ones familyiseverything lovemyfamily', 'love chose life experience chose see joy growth amp value everyday', 'fair finish bachelors engineering phd decade author 9 publications became dog momma moved across country twice made best friends imaginable much joy laughter tears', 'see later 2019 good riddance onward upward 2020 may year bring hope happiness joy love light laughter relish simple pleasures find joy in…', 'wgci heroin leave alone destroys lives families joy health everything', 'life ’ lessonsnever let something someone steal joy smile ’ growthkeep smiling throughsigned “ come back kid ” 😁 chicago illinois', 'joannfrancis9 wonder amp dream imagination qualities joy power energy create ✨💜✨', 'big boy joy', '“ pain parting nothing joy meeting ” ✨', 'obviousshirts cubs kerrywood moment sammy ’ game 1 hr insane moments joy games would eventually spell heartbreak', 'first saturday night 2020 ’ ready party let ’ create memories chicago ipartiedwithprotege joy district', 'epicureanexpats theytravel markandkylee leesatruesdell greenmochila roarloudtravel karadidomizio sostraveluk travelbugsworld carpediemeire perthtravelers explorefamily madhattersnyc kevinunexpected passportexplor odettedunn kalitravel bgbloggers therayjourney arcanedrag0n rdsampson25 aviewoutside poetixtrip dreamsabroad nimrod1979 xeniakaepernick matthewhirtes adamrogers2030 annaann6 gfoodiefriends oldehippiedude ibbtravel isabell39354005 lannietravels travelingmitch travelwlover eightyflavours inwanderland 365daytravel stromfieldadvs unnamedadventu1 spudontherun wattwherehow megliovivere rojourneys suzytheexplorer thank much tiffany tom hope new year brings many fun travels continued joy', 'filled overwhelming amount joy', 'supermansings thank sharing tears flowed hope receiving treatment soon feel joy again🙏🏼', 'loving vibes around wrestling twitter right refreshing see pure joy excitement beginning wrestling christmas wk14 njpw', '’ upsetting aunt told young girl avoid nasty ass ’ seen three girls including joy azriel younger ’ 28', 'schooled “ disney way ” got happy dwarf disneyland day greater way teach someone brand literally embody amp witness joy children ’ faces husband ’ tenyearsago decadeinreview', 'chrisrenteria27 angels flavortown crying tears joy rib sandwich', 'interviews therealjoebob amp barbaracrampton joy two genuinely nice people discussing love films making films shows ’ one million reasons mutantfam 🖤s thelastdrivein kinkyhorror shudder', 'joy learning date community people assume caretaker role', 'ego ’ see world abundance ’ see infinite success miracles spirit mind clouded judgements fears ’ proud done work undo insecurities life ’ short spend living pure joy', 'happy broadway closing ltmusical thank taking care percy grover annabeth way books mean great deal joy seeing live adaptation deserve congratschrismzcarrell kstoked jorrelfromwork', 'lyrikris10 thinking art brought much joy many families sending live', '“ going right world live mean live lives way lives meant lived throat wrists rage desire joy grief love till hurts maybe goddamn girl live ” sandra cisneros', 'despite challenges 2019 god faithful 🙌🏾 2020 brings joy', 'empowered holy spirit supernatural dimension life supernatural boldness peace joy revelation ability love overcome prosper…', 'ashlandcraft joy around last night great rest tour stay safe roads', 'happy 2020 may year one positive achievements much joy good health lots love 💕 positive mind set allows see good every situation blessings 🎉🎊🥳 chicago illinois', 'joe left onsies apartment gone thinking pure joy sent friends send suggestions animalssong pairings 🐮💗', 'thing beauty joy forever', '’ care good coach bill bellichick insufferable ass ’ answer questions seeing lose always bring joy', 'comparison theft joy live life', 'got joy ’ explain world ’ take ’ excited letsgetit all2020', 'drleroysr give joy praise honor thirst blessings', 'yts really get kick allowed call nickname much joy voice say “ hey thanks keys ”', 'something enjoy made possible cta almost every day leaving obscenely early get work still late joy', 'story starts chicago bringing inspiration joy across country shinemaddieslight miraclesthatfollowcoreymcpherrin laurenpettynbc karenjordanabc7 chicagosmayor', 'dabearsblog ky1elong kyle long brilliant career joy watch root shame crap injuries body god speed ky1elong retirement football', 'stuthefarmer joy faces 💕 happy anniversary', 'literaticat schitt ’ creek sarcastic joy 🤩', 'joy dressing art hand tailored clothing choice styling detailing fashion style art oneofakind masserati bentley ceo latinoleaders chairmanoftheboard law…', 'happy nationalbobbleheadday chief communications officer joy bobblehead joy', 'show love ’ joy', 'loved truth joy experience thankfully abundant🌟tuesdaythoughts pureesperanza 🌎💫', 'last night hat made shredded tissue paper magic stunned also believe magic world needs joy magic brings joy', 'thought actually accomplishing something enjoy really puts joy heart next two terms sae going fly career audio engineer theres lot look forward year', 'remember last year wanted closet sparked joy', 'favorite crew member ’ security get cut front people act like exclusive look faces gives type joy unmatched', 'wajahatali mollyjongfast tears joy', 'gwsbed zayxos either like selena ’ comparison thief joy 2 great women period', 'yuungnefertiti ’ big event joy plan fits', 'got opportunity pass learned modernafflatus launched first project producthunt ended 1 product dayi ’ getting much joy talking others ’ always happy help dms open hit 👊🏼👊🏼👊🏼', 'burlesque gives endless amounts joy performing performer drama though exhausting absolutely exhausting', 'latepost📷 awesome time celebrating friend 17 years may grid bless many birthdays joy heart hold harborside international…', 'thenightmareof3 tekkenjulz joy', 'numbers motivating people miss point number ’ matter ’ whether ’ getting joy satisfaction read easy cause ’ metric ’ really anything better yet —gt italictype', 'currently crying kitchen counter autumns freakin bundle joy 😩', 'card revoked feel joy amp pain', 'big boy 6 months today seriously deal 🥺😭♥️ ’ joy blessed parents lil cancer babe affectionate venus cancer libra moon is…', '2020 joy', 'letting anybody steal joy anymore2020 building stronger', 'looking coffee feel joy ☕', 'im joy yee noodle chicago il', 'theseagullah skylarjordan everything miriam margoyles amazing literally everything met ’ performed dickensian women one woman show joy', 'daralynn13 bf 11th grade told couple years ago id never complete woman like babyshe facebook great joy current real life friends told car parkedwe dont communicate anymore', 'christ brings joy lives', 'good bless fireboydml dude album pure joy good sound soul life melody blessing cuz high life vision2020', 'essence kenyamoore real joy', 'lord jesus thank bringing salvation world may proclaim message peace people help us good witnesses joy gospel', 'whoppi gold berg ’ know politics fro shit hairstyle please shut tell joy behavr get job go trump', 'martha stewart endorsement 👜 last couple years truly celebrityrelated things brought joy', 'blackgirlinmain lived knew important priorities ’ direct path towards happiness joy young black girls carved paths truly free', '’ totally “ brand ” receive first invitation oncampus interview phd program working bar waitress job feels like academic cinderella momenti ’ smiling crying losing mind joy rn', 'clue expiration dates live happily please remember keep smile face amp joy heart', '’ talk joy phone public anymore bc way laugh ugly 😂😭🤦🏽\\u200d♀️', 'lineup oakstreethealth national grand rounds today mark ebell uspstf w live infopoems podcast mona siddiqui cdo hhsgov meded topics galore joy national primarycare medical group gathering purpose reflection growth hcldr medtwitter', 'love pic genuine joy joseph dominguez face says feel helping kids great piece comed poweringlives', 'lord jesus help us trust unwavering love give us peace troubled fill us joy kingdom righteousness', 'pearliaison vgunvalson andy words cant describe much joy gives', 'hard get teary eyed look sons ’ blessed fill heart much joy thank lord 🙏🏾❤️❤️ breakthecycle newgeneration menofprayer anewseason godsgrace newchapter salvation', 'steviemat stuck going around little circles switch first came big problem send 2 joy cons repair ’ stop making link go circles', 'amazing result 16 points clear game hand second place leicester thing brings joy weirdo tweets win 😅😅😅', 'really make switch pro ’ want ideally compatible current joycon yet somehow smaller increased portability', 'rip neil thank joy ❤️🎶', 'bcdreyer beside joy ’ discussion anywhere aspect opera mercè dilette amiche 🎶', 'ive watched least 17 times much joy', 'friendship ladarius jerry ugh heart 🥺 definition black boy joy', 'told unclejrice specific reasons thought cool person receive gracefully also filled joy gon na work things like often', 'laying bed listening lofi browse internet laptop selfcare sunday blessed grateful today amp feeling thankful roof head possessions personal freedom joy happy life ღ', 'carlsmullen xavierevaz 5e great fun simplebut something per joy 41 ac dealing insane 120 damage one round arrow', 'toni went around phone exclaiming “ one dog today escher look happy look face ” always expect ’ start start crying joy ’ ya front tho toni comes close amp expression completely shifts', 'fallenange1234 rn way joy 3pm sunday yup', 'gofoxxurself bring joy', 'moved midwest 2005 never known joy covered parking space winter weather week luxury yo', 'davemurray uniwatch todmeisner atlhawks raptors nhl adidashockey full appreciation joy ’ mind one sent way either whatever', '“ heart human excellence often begins beat discover pursuit absorbs frees challenges gives sense meaning joy passion ” ―terry orlickprojects…', 'samh0tbath seen thought might bring joy', 'emtothea noelcarbs heart exploding much joy', 'judith roths life art life joy exhibit arcgalleryas president chicago women ’ caucus art cwca 20012005 founded ravenswood corridor arts amp industry walk now…', 'whoopi goldberg joy behar blame trump iran shooting ukrainian airplane', '’ wait first bundle joy 💕', 'little card may know joy deck says today creative creative today sometimes cards pull speak inner guide days like today want be…', '0xabad1dea interesting find different configurations joy cons make huge difference ability control stuff still ’ play smash bros save life tho', 'nothing peace luv joy rock roll saloon last night chloeorwell eric', '’ true dangote buys arsenal unmitigated joy would ensue 🇳🇬 🇳🇬', 'wishing much energy innocence amp joy whitneyreynolds 💗 ps gocubsgo wrigley field', '🌳🌲🌳🌲🌳🌲tree joy💫mondaymotivation pureesperanza', 'third final tip tap joy⠀⠀we must maintain attitude gratitude throughout execution⠀', 'noelfisher cameronmonaghan im thankful talent playing two amazing characters giving us greatest couple television bringing us much joy deserve world thank gallavichengaged gallavichdeservesbetter', 'whole cheating converstaion way drag tanya drama poor baby tryna suck light joy rhoa', 'tears joy pain coming', 'daehruoyserehw kaizafox kinda get id urge give try first hate touch controls inputs gc mobile joy play', 'joynessthebrave entire world museums libraries artists scientists theologians writers much gives much light joy experience also twitteroftime fandom amazing also dogrates happy place', 'jealous bitter let florence pugh find joy happy wants ’ none business lmaooo', 'akkitwts vrb1955 brought nt heart pure joy', 'trina cousin joy sharp hell', 'wynonnaearp content jaggedlittlebroadway weekend people bring way much joy new york city fell love piano bar jaggedlittlepill second time kathryn gallagherthe past days lot', 'hardball doctoreon bernie right woman ’ win presidency tool like amp surrogates tearing said hrc ’ qualified sat back amp watched team vip surrogates— sarandon west turner joy gray sirota—trash hrc b4 election bullybernie', 'got joy damn near everything one time fav pics solar eclipse enamored creation', 'difficult joy make object adored beauty usefulness', 'youre going ride dick beloved need joy got payment sent randomly cash app dont ride dick boring', 'tap dimension ✨thx sharing joy amp wisdom karijoys 💜wednesdaywisdom pureesperanza', 'joy comes morning', 'bethfratesmd joy all💫', 'love catchin candids missgonzales working brainstorming never knows ’ happening brings great joy teampershing iknowineedalife epipersimpson d100inspires raisingthenbar', 'joy district charging ppl 20 dollars get played shit bruh wan na hear future disco wtf', 'urlacher went canton went urlacher bears hope 93 1999 bears 0 star players franchise player urlacher become face bears game bear last home opening day brought joy also game vs falcons 2011 made 1 catch', 'shade nikkinatural1 lmao joy ’ going ’ wife ’ going divorce time soon trinarockstarr lhhmia lhhmiami', 'coco pops best cereal back secondary school yes dinnerthe joy heart 💃🏼💃🏼💃🏼', 'love every cell express w crystal heart ring 💜 ♡ customizable select favorite color amp metal ••sale 30 w promo code joy 2120••》 feb 8th…', 'gabbybernstein giving joy inspo today', 'justoldjoe happy birthday dear joe hope day loved ones fun may rest year filled joy good health sincerely lisa b🥰🥰🎂🎂🎂🎂🥳🥳🥳🥳🤗🤗', 'looking forward welcoming families evening new family dinner fairviewsd72 joy family community', 'unclosetedgirl exactly people entitled lack care joy others also play game sakurai said team already chose 5 characters pass character trying everyone around world', 'experimental lab magic happens molecular level workshop magic happens macro level joy engineer department chemistry 😁 testing cofs', 'find much joy loving people close giving energy love different ways hate ’ abused unappreciated truly', 'im quite miserable today hearing stephenfry causally talk nipples 7deadlysins pod gave slightest spark joy slight still something', 'motoridersd ciaosamin laugh sparks joy', 'always joy revisit thewizard', 'sketchesbyboze everyone needs break sometimes rest good thank joy bring twitter hug', 'nowwatchingjack frost 1997dir michael cooney thelastdrivein flavorthe holidays never end jack therealjoebob amp kinkyhorror around movie makes laugh start finish plus joy darcy ’ eyes jbb announces next priceless', 'betty white 98 today fills us joy say happy birthday amazing hilarious betty white remember dont mess betty pbs', 'carloseats chicken joy', 'tgif glory hope god hope fill joy peace believing may abound hope power holy ghostromans 1513elder pj jones', 'thealchemist adeadekunle01 knw long marley game olamide making hit think marley started last year lol na time make enjoy comparison ’ killers joy', 'olumadebo nigerians comparison killers joy 🥺', 'random things brought joy chicago enjoythemoment chicago illinois', 'kocojason ’ something special babies laughing much untamed joy', 'matter doesnt bring joy fulfillment', 'harrisonsmith85 thanks much harrisonsmith85 great time chatting already love podcast joy cynema85 womeninhorror horrorlife indielives mamacreepy', 'carterlear chisportster48 dude yes many times done already shit brings joy miserable life', 'jivedurkey joy', 'bethlynch2020 msnbc joyannreid joy reid ’ show akin slanderous disgusting fox “ news ” entertainment bs', 'ggreenwald joyannreid joy happens person mouth piece “ bobble head ” ethical talk show host refused amp left msnbc ’ 100 proven joy qualms masquerading truth amp real discussions corporate propaganda day', 'another cathartic lesson schoolofrockop morning ’ torn regretting ’ played 🎸 whole life relishing joy feel learning guitarlessons lifelonglearning', 'joining faithful cocontributors posting ’ enjoy inside say joy work faithful pastors humbled agreed make project come life charliedates romell1williams glparksjr pastoremase kedwardcopeland wneelymoodyedu', 'loved old rural mississippi folks shaped life ammany didnt much financially showed true love watched full wisdom joy even living thru jim crow foodlawd', 'taikawaititi loved triumphbut gon na lie yorki stole movie every scene joy character resolution end interested looking forward archies next project rocks', '119chicago daedaepivot imagine things bring joy', 'rawbeautykristi contemplating telling 🤷\\u200d♀️ kristi bring joy living ronald mcdonald house bc baby nicu home since september videos make laugh smile beautiful', 'hope everyone something life gives much joy bernese mountain dog fresh snow', 'love seeing interracial couples together even brings joy whiteblack people give dirty looks ’ public interraciallove', 'consider totally allow joy severely suspended merely offended tl barrett jr quote', 'happy birthday dollypartoni really always love thanks light joy ’ brought world', 'asked nothing name ask receive joy may fulljohn 1624', 'peterdaou msnbc owes everyone apology allowing kind sleeze presented talk show ’ totally stopped watching station bias indistinguishable fox entertainment use veneer respectibilty joy ’ show esp bad', 'happy birthday true queen hero source endless joy comfort ✨🌸🌺', 'dimwittedmutt looooove game much one favorites got much depth writing art style level design characters good joy play ending always hits real hard best way', 'pure joy want', 'wound tonight strange story truly amazing grace much tap instagram got ta go bed class tomorrow heart full gratitude joy…', 'psalm 457 “ love righteousness hate wrongdoing therefore god god set companions anointing oil joy ” ♥︎you know passage…', 'old cursive hat pride joy', 'us need learn means truly work hardsome us need learn means truly restone gives meaning dignity creative expression satisfaction something hard wellthe gives joy peace gratitudeboth vital', 'first nhlblackhawks game witnessed 88pkane get 1000 cried pure joy onegoal', 'inntothenight puppies joy cute playful energy 🥰 toy shadow apollo played', 'ohhhh knew greatness awaits often idea ’ saved elders would often say “ count joy baby ” 💕happy monday family remember that…', 'happy mlk jr day let ’ honor great man breaking vicious cycle fear creating circles love joy laughter dance together amen mlkday mlkday2020 belonging justdance', 'currently watching packers fans crying tik tok really taking much joy others suffering go bears', 'really joy read', 'bombadcast starwarsexplain everything love star wars fandom perfectly encapsulated celebration chicago first mrsdaftprawn amp absolute joy us sharing space love far away galaxy ’ truly restorative 😊 swcc', 'brings joy', 'god still throne joy devil battle', 'everybodylikeshim happens meet petebuttigieg joy belonging teampete', 'remarkable ordinary current standards joy sane amp sober lawyer would violate ethical standards blatantly front judge amjoy', 'tbt passion house portrait tb past august session passionhousecr w blinechicago absolute joy project met exceedingly lovely people already itching start next…', 'one favorite kinds joy', 'michaelschweitz ah ha goober ya tink dat joy juice ready betta check dat still filbrer duh huh duh duh', 'specific joy understanding current filmtwitter controversy', 'lord jesus thank new life help us share joy bring us everyone encounter may true apostles message mercy peace', 'anxiety great within meyour consolation brought joy psalm 9419 niv', 'nicki girl still marry joy anyway sis played lhhmia', 'hours lake changed many shades bring joy – thought share much chicago lakeshore lakeshoretrail lakemichigan frozenlake coldafternoon extremelywindy winter2020…', 'remembering much love friends much make laugh much joy ’ brought life ’ cryin', '’ sorry truly start dating profile sentence “ dogs dead may never feel joy ”', 'monté amp monté love say 😊montéjrhamma “ father godly children cause joy pleasure children wise ” proverbs 2324 nlt evanston illinois', 'ladies fierce incredible powerhouses joy see shine meangirlsbway wonderful experience thank timemaryspacekate jksaxer mrahssiah daniellewade', 'bundle joy family amazing us five half months palos heights illinois', 'drops ink testament life endurance love pain restoration joy', 'legend john mcafee discusses blockchain bitcoin amp cybersecurity amp love compassion joy hope amp grace 2 yrs agostill relevant voteblue 4 decency aarp veterans metoo genx millenials marchforourlives 1u independents indigenous p2 latinx blm', 'sometimes feel like young cool soccer mom always feeding friends house love stocked snacks goodies share hosting brings much joy ☺️🙋🏼\\u200d♀️ made apple “ cookies ” …', 'rozellahw tree life awesome mystery elw 334 marty haugen luthers theology cross versechrist lead shall followstumbling though steps may beone joy sorrowwe river seawe river seauglycryingnow', 'melissaflobix tree life awesome mystery elw 334 marty haugen luthers theology cross versechrist lead shall followstumbling though steps may beone joy sorrowwe river seawe river seauglycryingnow', 'would able deliver days plays sheer joy without help dedicated volunteers 2019 volunteers donated 1993 hours personal time packing parties 479 hours us…', 'joy also fit eat carrot cake', 'hope brings joy someone else today', 'crazy ass world something simple paw foot contact brings much joy', 'kofchicago ’ also interesting cultural anthropological content maybe pride joy chicago stuff still interesting', 'love open house joy seeing incoming 6th graders excitement beat visits former students thanks stopping update freshman year esanch101 amp juliana made day weareemerson engaged64', 'brings much joy ’ happy excited whoopigoldberg us 🤟🏽🖖🏽', 'carlypildis last week fills heart joy shabbat shalom dear friend ❤️', 'trump march dimes saying children precious violated international law licking giving clean water food etc trump put white supremacist charge yelled joy immigrant child would die like isis terrorist', 'jellolartichaud loved relationship remus hearing lyrical incantations two wrote brought much joy', 'thejlv hbd josé hope find joy big day', 'samantha raley bsn rntears joy morning finding passed nclex 75 wednesday excited next journey life ’ done without amazing support family…', 'gerald gerald joy road nah aint worst mike washington court yeah really aint shyt 😔😜', 'liked lane 8 ’ newest album please please listen newest release label ocula rising star guy makes incredibly moving clean joy inducing sounds ’ sure would love bless ears', 'may gifts happiness joy love good fortune coming year happy lunar new year', 'someone blasting vance joy ’ riptide nearly empty redline train', 'wanted wish every one happy lunar new year chinese new year may year white metal rat bring ya much joy happiness love peace prosperityhappy lunar new year恭喜发财 恭喜發財 gōngxǐ…', 'anneehg zschmidtmusic andytrebing betsydwilliams musicvomit ’ thank honor included every moment joy', 'theipguru1 pls proud spread great joy good recipes', 'dude line dispensary said “ cats ’ bring joy ”', 'hate going depressive episodes obvious reasons like depression hitting like bro legit thinking kms much motivation anything find joy anything feel numb', 'hippo ears thing pure joy', 'bigboi wuthering heights imagine sheer joy 15 year old daughter sophia played favorite song', 'openly admit watching weber shit like always brought joy', 'seriously love cooking people brings much joy hehe honestly prefer eating home eating anyone ’ tryna save money spend food ’ ur woman', 'johncarney3 kenwo4life kidding ’ steal joy bobble need personally deliver', 'opening incredibly silly rewarding show good crew good whole process given intense joy amp satisfaction amp learning come check us week thurs jan 30 7 pm prop thtr 3502 n elston ave rhinofest', 'sorry hear tragic news kobebryant daughter gianna kobe nba icon brought joy basketball fans around world deepest sympathies wife entire bryant family', '’ saddened tragic news kobebryant daughter gianna kobe nba icon brought joy basketball fans around world heart goes wife family', 'young daughters know father brought much joy millions people memories last forever rip kobe amp gianna mamba mambacita', 'kobebryant one made basketball fan today favorite athlete time never change brought joy watching sports athlete team thank', 'deetwocents joyannreid amjoyshow thanks joy ann reidthats im talking shut lying', 'built functional spreadsheet ’ going dramatically reduce amount time coworker take complete task actually could almost crytears joy', 'yes call lies ’ let stand thank joy reid', 'basketball lost legend today kobe bryant joy watch court post basketball career equally enjoyable beyond great athlete intelligent man world respect ripkobe mambamentality sundaythoughts', 'first time ever cried tears joy watching nba game dad 11 years old crying awe kobe bryant ’ reason fell love gamei ’ broken right', '’ see pain symptoms ’ also learn makes women feel alive amp ’ pursue health balance joy 22 chronicpain breastcancer invasivebrainsurgery trauma autoimmunedisease postconcussivesyndrome grief caregiving racism', 'ministry needs people moved joysimongordon1', 'watching video brings absolute joy', 'went 4 pm go bowling ’ getting home ’ 3 lol ’ city seen many people heart full much joy thankful life chosen lead ღ', 'usually enthusiastic proponent big network television news especially cnn follow therickwilson amp wajahatali twitter amp find quite erudite amp clip brought joy expected dunkondonald ukraine marylouisekelly donlemon', 'okja amazing film joy watch netflix', 'perfect combination mountain dew mozzarella right amount grease joy stick joeybagovdonuts msgcapital', 'nowwatchinghouse devil 2009dir ti westthelastdrivein flavoryou feel joy dripping therealjoebob intro amazing devil film ’ one favorite tldi filmsthe kinkyhorror cosplay well', 'looking back week ago photos mlkday gives hope people coming together acts service change things power joy community photos help remind us glad youth came', '🙌🏾 tears loss hurt wife kids family amp friends joy talks relationship😊🥺😢😭', 'ken starr lifetime good foot soldier minutes away getting bill brennan ’ seat supreme court 30 years ago still sickening ultimately humiliated passed favor david souter still fills joy', 'one week see judith roths life art life joy exhibit arc gallery thru jan 31 gallery hrs wedsat 126pm sun 124pmlife joy art artistinresidencechicago painting drawing…', 'chandra1vinod ssomjook fragrancewings mhkaltaiy studartcarolina ahmedshahjehan imranal87707229 annab9663 heroldbarton saulastam soledad30777243 evantiaevantia marina179046613 america23617306 noemrosales3 yyyuuuooos bedirozdogan marycastro54 snowwhiterina r95731 cristinpereyra antoniaparra8 otrogoga60 marinavibu609g vtvsx8qtst7j5jz angsala67 ahmedahlicom iosublanco josefer38693523 rasnawatir lfsrs loblily sapiens67 vipeurope5 robtropper thshaher mey87151220 mstudart abellonni jadavrashmin emadothman3 yony54967643 kingjohn1776 gamalmansour71 elbaklysami silau25 zeynazerda grandesol2016 lovesomka really like heart shaped chocolate cake great idea surprise favorite loved one something like would jump joy', 'didnt watch kobe bryant coverage grammys yesterday last minute disney ice outing daughter judging twitter joy face true currency', 'tears sadness turn tears joy kobebryant daughter lost today dmcintyrewwe realmmartinez qosbaszler edgeratedr jericho cruise emotional week', 'beautiful night joy stand together prayer brothers sisters across chicago may live leave legacy love city continue prayer action', 'rustybuckets321 never truly goes away ’ always time thing make feel better time pain turn joy memory still ’ makes great lost dad 22 really good friend 26 ’ 34', 'dirtytesla bwalkernfl blkmdl3 true life chaos thats need make spread joy', 'hello friends time scream joy fact alicecoote meashabg amanda forsythe singing chicagosymphony next season', 'bowser ’ help spread joy today think everyone agree need thesimplegood tee ’ wearing designed chicago 6th grader christopher definition ‘ simple good ’ is…', '“ comparison thief joy ”', 'markiejp coincidentally home joyously watching tv joy turned absolute horror profound grief', 'one exhibit arc gallery thru jan 31 judith roths life art life joy gloria bravos la resistencia gallery hrs wedsat 126pm sun 124pmartistinresidencechicago resistance…', 'look love kobe daughters ’ matters ’ goal within love happiness joy peace let ’ focus love spread girldad', 'keke558855888 heart full joy especially see beautiful video', 'cheer baby girl joy comes morning', 'jeanetteeliz ✨💜✨joy', 'beaniefeldstein oh god forget ultimate bringer joy cant stop beat', 'bring love kindness joy world inspire others live purpose let ’ live inspire 🦋 happytuesdaydolls currently chicago work trying stay warm 📸…', 'meagan joy seeing succeed', 'unearthed killer robsato painting archives yesterday nearly 6 years since last saw old man ’ stunningly beautiful remembered joy art giantrobotchicago chitown…', 'joy let ’ listen alan dershowitz rapist defense lawyer perfect pick realdonaldtrump defend', 'love girls everything bring much joy loving one greatest assignment earth hearing kobe ’ sudden death reminds cherish every moment get to…', 'sharing caring yesterday chance share joy basil amp planting imagination explorers imagineusif thank partnering empower greater englewood community healthy living goodinenglewood', 'village day time 26 years ago baby girl entered world ushered joy much please help wish amazing daughter bre…', 'kobebryant infected men familylove ’ encouraging see men expressing love wives asking forgiveness past errors moving towards really matters love joy peace', 'the7line ’ dh use position pitcher would give players like rey ordoñez joy watch field longer careers', 'great joy taking others places never heights never dreamed happy hump day', 'ok dunkindonuts hate dramatic happened trefoil latte thing brought frigid feb heart joy last year', 'jenefertari pageymoon scottkingmedia brings joy lol', 'pure joy rvican sd113a giveallthelove', 'dinner ord flight home reflecting week 1 seoclarity incredibly impressed team product joy fun represent amp work beside excited work ahead', 'book sheer joy look probably know love wrecked bindings one wrecked extremely interesting spineless lace cover boards evidence inside red embroidered design sort', 'pj23school love work love panthers pj23school special place joy serve faithful community', 'mcusdsupe yes passion becomes fixing broken system people threatened merely exposing challenging status quo becomes purpose joy yes life short let ’ make better generations come', 'mrniceguy1858 agreed remember scene happened happy see diana “ ex deus machina ” godinthemachine leapt sheer joy theater', 'boy eat like pro 😳 parenting joy yees noodle kitchen', 'humpday🐪 workday joy face going back singlelife chicago loop downtown chicago', 'hughbartling joy transitive properties though say aspect us culture im still used insistence fucking action jesus calm', 'kobe still mind song video buffbaby tobilou source joy 2019 rewatching new feeling ripmamba ripkobebryant espn nba sportscenter 24 🙏🏾 families loved ones affected tragedy', 'physedfreak teaching chipubschools physical education educators 3 3 bounce ball instant activities lead skill development learners ’ deny joy play doechancellor janicejackson openphysed physed imcps', 'lianaaa23 u order joy cons dock design back cute', 'congratulations cgrand3 amazing career true joy watch play game', 'hrishihirway joshmalina case look behind curtain gave us wonderful combination nostalgia enlightenment plain joy crowds atttacted live shows certainly attest that10', 'positive vibrational frequency feeling sustains create joy friends💥😃💥fridayfeeling pureesperanza 🌎💫', 'greatest joy', 'wife decided long time ago would post pics children social media privacy protection take word 3 girls beautiful inside gives indescribable joy fatherilovemyladies girldad', 'corbeaunoir2 collectibulldog juliekusma authorpearltate authorjchowell artyny59 argyllseaglass carolin60899850 julia4716 kindness626 kickasscantona2 michelleroseg33 michelebourke1 littlemore20 shadowdogdesign may much joy new home lotsa love little bit me😁❤☝️💋', 'chacerider love art dock ’ sooooo cute switch customized got second set joycons amp keep two blue switch added stickers 😇', 'chacerider like switch got one pretty color joycons', 'still remember first time babies grabbed finger nicu almost lost joy', 'jus asked one amendment friendly amp heart racing w joy']\n"
     ]
    }
   ],
   "source": [
    "jan2020_tweets = text_cleaning(month = '01', year = '2020', joy = True, rm_urls = True, rm_tags = False, rm_punc = True, rm_stop = True, lower = True, stem = True)\n",
    "print(jan2020_tweets)"
   ]
  },
  {
   "cell_type": "code",
   "execution_count": 33,
   "id": "a22a7282",
   "metadata": {},
   "outputs": [
    {
     "name": "stdout",
     "output_type": "stream",
     "text": [
      "happy new year therichardsons may year bring love joy peace prosperity :kiss_mark: metropolitan club\n"
     ]
    }
   ],
   "source": [
    "# replace emojis with words\n",
    "example = jan2020_tweets[12]\n",
    "\n",
    "emot_obj = emot.core.emot() \n",
    "emojis = emot_obj.emoji(example)\n",
    "    \n",
    "# if there are emojis in the tweet replace them with their meanings\n",
    "if len(emojis['value']) > 0:\n",
    "    for i in range(len(emojis['value'])):\n",
    "        emoji = emojis['value'][i]\n",
    "        meaning = emojis['mean'][i]\n",
    "        tweet = example.replace(emoji, meaning)\n",
    "\n",
    "print(tweet)"
   ]
  },
  {
   "cell_type": "code",
   "execution_count": 34,
   "id": "49ff6f8c",
   "metadata": {},
   "outputs": [
    {
     "name": "stdout",
     "output_type": "stream",
     "text": [
      "“ pain parting nothing joy meeting ” ✨\n",
      "see later 2019 good riddance onward upward 2020 may year bring hope happiness joy love light laughter relish simple pleasures find joy in…\n"
     ]
    }
   ],
   "source": [
    "# examples of punctuation not being removed\n",
    "print(jan2020_tweets[56])\n",
    "print(jan2020_tweets[51])"
   ]
  },
  {
   "cell_type": "code",
   "execution_count": 33,
   "id": "7af6d595",
   "metadata": {},
   "outputs": [
    {
     "name": "stdout",
     "output_type": "stream",
     "text": [
      "┏━━┓┏━━┓┏━━┓┏━━┓┗━┓┃┃┏┓┃┗━┓┃┃┏┓┃┏━┛┃┃┃┃┃┏━┛┃┃┃┃┃may year filled joy amp love┃┏━┛┃┃┃┃┃┏━┛┃┃┃┃┃┗━┓┃┗┛┃┃┗━┓┃┗┛┃┗━━┛┗━━┛┗━━┛┗━━┛happy new year\n",
      "┏━━┓┏━━┓┏━━┓┏━━┓\n",
      "┗━┓┃┃┏┓┃┗━┓┃┃┏┓┃\n",
      "┏━┛┃┃┃┃┃┏━┛┃┃┃┃┃\n",
      "May this year be filled with joy &amp; love!\n",
      "┃┏━┛┃┃┃┃┃┏━┛┃┃┃┃\n",
      "┃┗━┓┃┗┛┃┃┗━┓┃┗┛┃\n",
      "┗━━┛┗━━┛┗━━┛┗━━┛\n",
      "Happy New Year!!!\n"
     ]
    }
   ],
   "source": [
    "# strange example\n",
    "print(jan2020_tweets[16])\n",
    "df = pd.read_csv('/joy/joyData/Joy-NoJoy/Joy-01-2020.csv')\n",
    "print(list(df['content'])[16])"
   ]
  },
  {
   "cell_type": "code",
   "execution_count": 32,
   "id": "84c902b6",
   "metadata": {},
   "outputs": [
    {
     "name": "stdout",
     "output_type": "stream",
     "text": [
      "!\"#$%&'()*+,-./:;<=>?@[\\]^_`{|}~\n",
      "['i', 'me', 'my', 'myself', 'we', 'our', 'ours', 'ourselves', 'you', \"you're\", \"you've\", \"you'll\", \"you'd\", 'your', 'yours', 'yourself', 'yourselves', 'he', 'him', 'his', 'himself', 'she', \"she's\", 'her', 'hers', 'herself', 'it', \"it's\", 'its', 'itself', 'they', 'them', 'their', 'theirs', 'themselves', 'what', 'which', 'who', 'whom', 'this', 'that', \"that'll\", 'these', 'those', 'am', 'is', 'are', 'was', 'were', 'be', 'been', 'being', 'have', 'has', 'had', 'having', 'do', 'does', 'did', 'doing', 'a', 'an', 'the', 'and', 'but', 'if', 'or', 'because', 'as', 'until', 'while', 'of', 'at', 'by', 'for', 'with', 'about', 'against', 'between', 'into', 'through', 'during', 'before', 'after', 'above', 'below', 'to', 'from', 'up', 'down', 'in', 'out', 'on', 'off', 'over', 'under', 'again', 'further', 'then', 'once', 'here', 'there', 'when', 'where', 'why', 'how', 'all', 'any', 'both', 'each', 'few', 'more', 'most', 'other', 'some', 'such', 'no', 'nor', 'not', 'only', 'own', 'same', 'so', 'than', 'too', 'very', 's', 't', 'can', 'will', 'just', 'don', \"don't\", 'should', \"should've\", 'now', 'd', 'll', 'm', 'o', 're', 've', 'y', 'ain', 'aren', \"aren't\", 'couldn', \"couldn't\", 'didn', \"didn't\", 'doesn', \"doesn't\", 'hadn', \"hadn't\", 'hasn', \"hasn't\", 'haven', \"haven't\", 'isn', \"isn't\", 'ma', 'mightn', \"mightn't\", 'mustn', \"mustn't\", 'needn', \"needn't\", 'shan', \"shan't\", 'shouldn', \"shouldn't\", 'wasn', \"wasn't\", 'weren', \"weren't\", 'won', \"won't\", 'wouldn', \"wouldn't\"]\n"
     ]
    }
   ],
   "source": [
    "print(string.punctuation)\n",
    "print(stopwords.words('english'))"
   ]
  }
 ],
 "metadata": {
  "kernelspec": {
   "display_name": "Python 3 (ipykernel)",
   "language": "python",
   "name": "python3"
  },
  "language_info": {
   "codemirror_mode": {
    "name": "ipython",
    "version": 3
   },
   "file_extension": ".py",
   "mimetype": "text/x-python",
   "name": "python",
   "nbconvert_exporter": "python",
   "pygments_lexer": "ipython3",
   "version": "3.8.12"
  }
 },
 "nbformat": 4,
 "nbformat_minor": 5
}
